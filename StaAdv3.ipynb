{
 "cells": [
  {
   "cell_type": "markdown",
   "id": "aed912b9",
   "metadata": {},
   "source": [
    "#  What is Estimation Statistics? Explain point estimate and interval estimate"
   ]
  },
  {
   "cell_type": "code",
   "execution_count": 1,
   "id": "9831d426",
   "metadata": {},
   "outputs": [],
   "source": [
    "# Estimation is the process by which the numerical value of unknown population values are inferred from incomplete data, such as\n",
    "# a sample. If a single figure is calculated for each unknown parameter, the process is called point estimation.\n",
    "# Statisticians use sample statistics to estimate population parameters. For example, sample means are used to estimate\n",
    "# population means; sample proportions, to estimate population proportions. An estimate of a population parameter may be \n",
    "# expressed in two ways: Point estimate.\n",
    "# The process of estimation is carried out in order to measure and diagnose the true value of a function or a particular set of\n",
    "# populations. It is done on the basis of observations on the samples, which are a combined piece of the target population or \n",
    "# function.\n",
    "\n",
    "# A point estimate is a single value estimate of a parameter. For instance, a sample mean is a point estimate of a population\n",
    "# mean. An interval estimate gives you a range of values where the parameter is expected to lie. A confidence interval is the\n",
    "# most common type of interval estimate."
   ]
  },
  {
   "cell_type": "markdown",
   "id": "d18c731f",
   "metadata": {},
   "source": [
    "#  Write a Python function to estimate the population mean using a sample mean and standard deviation.\n"
   ]
  },
  {
   "cell_type": "code",
   "execution_count": 2,
   "id": "f6b7156f",
   "metadata": {},
   "outputs": [
    {
     "name": "stdout",
     "output_type": "stream",
     "text": [
      "Estimated Population Mean: 76.82999999999998\n"
     ]
    }
   ],
   "source": [
    "def estimate_population_mean(sample_mean, sample_stddev, sample_size):\n",
    "    # Calculate the standard error of the mean\n",
    "    standard_error = sample_stddev / (sample_size ** 0.5)\n",
    "    # Adjust the population mean based on the standard error\n",
    "    population_mean =sample_mean * (1 + (standard_error / sample_mean))\n",
    "    \n",
    "    return population_mean\n",
    "\n",
    "# Example usage\n",
    "sample_mean = 75.6\n",
    "sample_stddev = 12.3\n",
    "sample_size = 100\n",
    "\n",
    "estimated_mean = estimate_population_mean(sample_mean, sample_stddev, sample_size)\n",
    "print(\"Estimated Population Mean:\", estimated_mean)\n"
   ]
  },
  {
   "cell_type": "markdown",
   "id": "75733d4e",
   "metadata": {},
   "source": [
    "# What is Hypothesis testing? Why is it used? State the importance of Hypothesis testing."
   ]
  },
  {
   "cell_type": "code",
   "execution_count": 3,
   "id": "d02c56b9",
   "metadata": {},
   "outputs": [],
   "source": [
    "# A statistical hypothesis test is a method of statistical inference used to decide whether the data at hand sufficiently \n",
    "# support a particular hypothesis. Hypothesis testing allows us to make probabilistic statements about population parameters.\n",
    "\n",
    "# Hypothesis Testing is a type of statistical analysis in which we put our assumptions about a population parameter to the \n",
    "# test. It is used to estimate the relationship between 2 statistical variables.\n",
    "\n",
    "# Few examples of statistical hypothesis from real-life - \n",
    "\n",
    "# A teacher assumes that 60% of his college's students come from lower-middle-class families.\n",
    "# A doctor believes that 3D (Diet, Dose, and Discipline) is 90% effective for diabetic patients.\n",
    "\n",
    "# The purpose of hypothesis testing is to test whether the null hypothesis (there is no difference, no effect) can be rejected\n",
    "# or approved. If the null hypothesis is rejected, then the research hypothesis can be accepted.\n",
    "\n",
    "# Hypothesis testing refers to a formal process of investigating a supposition or statement to accept or reject it. The \n",
    "# econometricians examine a random sample from the population. If it is consistent with the hypothesis, it is accepted. \n",
    "# Otherwise it is rejected."
   ]
  },
  {
   "cell_type": "markdown",
   "id": "505b7f3a",
   "metadata": {},
   "source": [
    "# What is a null and alternative hypothesis? Give some examples."
   ]
  },
  {
   "cell_type": "code",
   "execution_count": 4,
   "id": "e10eb56c",
   "metadata": {},
   "outputs": [],
   "source": [
    "# Null and alternative hypotheses are used in statistical hypothesis testing. The null hypothesis of a test always predicts no \n",
    "# effect or no relationship between variables, while the alternative hypothesis states your research prediction of an effect or\n",
    "# relationship.\n",
    "\n",
    "# In probability and statistics, the null hypothesis is a comprehensive statement or default status that there is zero happening\n",
    "# or nothing happening. For example, there is no connection among groups or no association between two measured events.\n",
    "\n",
    "# The alternate hypothesis is just an alternative to the null. For example, if your null is “I'm going to win up to $1,000” then\n",
    "# your alternate is “I'm going to win $1,000 or more.” Basically, you're looking at whether there's enough change (with the \n",
    "# alternate hypothesis) to be able to reject the null hypothesis.\n",
    "\n",
    "# Null Hypothesis: H0: There is no difference in the salary of factory workers based on gender. Alternative Hypothesis: Ha: Male\n",
    "# factory workers have a higher salary than female factory workers."
   ]
  },
  {
   "cell_type": "markdown",
   "id": "bf5a4a97",
   "metadata": {},
   "source": [
    "# Write a Python script to conduct a hypothesis test on the difference between two population means, given a sample from each population.\n"
   ]
  },
  {
   "cell_type": "code",
   "execution_count": 5,
   "id": "23ca45d7",
   "metadata": {},
   "outputs": [
    {
     "name": "stdout",
     "output_type": "stream",
     "text": [
      "Sample 1 mean: 11.620000000000001\n",
      "Sample 2 mean: 8.969999999999999\n",
      "Sample 1 standard deviation: 1.0840254199561519\n",
      "Sample 2 standard deviation: 0.9661492868312043\n",
      "Degrees of freedom: 18\n",
      "Calculated t-statistic: 5.771030238090792\n",
      "Calculated p-value: 1.8073199491874803e-05\n",
      "Conclusion: Reject null hypothesis\n"
     ]
    }
   ],
   "source": [
    "import numpy as np\n",
    "from scipy import stats\n",
    "\n",
    "# Define your sample data\n",
    "sample1 = [10.2, 12.5, 11.8, 13.0, 9.7, 12.1, 11.5, 10.8, 11.9, 12.7]\n",
    "sample2 = [8.6, 9.8, 7.9, 10.5, 8.2, 9.4, 8.7, 9.1, 7.5, 10.0]\n",
    "\n",
    "# Set significance level (alpha)\n",
    "alpha = 0.05\n",
    "\n",
    "# Calculate sample statistics\n",
    "mean1 = np.mean(sample1)\n",
    "mean2 = np.mean(sample2)\n",
    "std1 = np.std(sample1, ddof=1)  # Using Bessel's correction for sample standard deviation\n",
    "std2 = np.std(sample2, ddof=1)\n",
    "\n",
    "# Calculate degrees of freedom\n",
    "n1 = len(sample1)\n",
    "n2 = len(sample2)\n",
    "df = n1 + n2 - 2\n",
    "\n",
    "# Calculate pooled standard deviation\n",
    "pooled_std = np.sqrt(((n1 - 1) * std1**2 + (n2 - 1) * std2**2) / df)\n",
    "\n",
    "# Calculate t-statistic\n",
    "t_statistic = (mean1 - mean2) / (pooled_std * np.sqrt(1/n1 + 1/n2))\n",
    "\n",
    "# Calculate p-value\n",
    "p_value = 2 * (1 - stats.t.cdf(abs(t_statistic), df))\n",
    "\n",
    "# Compare p-value with alpha to make a decision\n",
    "if p_value < alpha:\n",
    "    conclusion = \"Reject null hypothesis\"\n",
    "else:\n",
    "    conclusion = \"Fail to reject null hypothesis\"\n",
    "\n",
    "# Print results\n",
    "print(\"Sample 1 mean:\", mean1)\n",
    "print(\"Sample 2 mean:\", mean2)\n",
    "print(\"Sample 1 standard deviation:\", std1)\n",
    "print(\"Sample 2 standard deviation:\", std2)\n",
    "print(\"Degrees of freedom:\", df)\n",
    "print(\"Calculated t-statistic:\", t_statistic)\n",
    "print(\"Calculated p-value:\", p_value)\n",
    "print(\"Conclusion:\", conclusion)\n"
   ]
  },
  {
   "cell_type": "markdown",
   "id": "4b63e32d",
   "metadata": {},
   "source": [
    "# Write down the steps involved in hypothesis testing."
   ]
  },
  {
   "cell_type": "code",
   "execution_count": 6,
   "id": "54f3b8db",
   "metadata": {},
   "outputs": [],
   "source": [
    "# Econometricians follow a formal process to test a hypothesis and determine whether it is to be rejected. The steps include:\n",
    "\n",
    "\n",
    "# Stating the Hypotheses\n",
    "# The first step involves positioning the null and alternative hypotheses. Remember, that these are mutually exclusive. If one\n",
    "# hypothesis states a fact, the other must reject it.\n",
    "\n",
    "\n",
    "# Making Statistical Assumptions\n",
    "# Consider statistical assumptions – such as independence of observations from each other, normality of observations, random \n",
    "# errors and probability distribution of random errors, randomization during sampling, etc.\n",
    "\n",
    "\n",
    "# Formulating an Analysis Plan\n",
    "# This includes deciding the test which is to be carried out to test the hypothesis. At the same time, we need to decide how \n",
    "# sample data will be used to test the null hypothesis.\n",
    "\n",
    "\n",
    "# Investigating Sample Data\n",
    "# At this stage, sample data is examined. It’s when we find scores – mean values, normal distribution, t distribution, z score,\n",
    "# etc.\n",
    "\n",
    "\n",
    "# Interpreting Results\n",
    "# This stage involves making decision to either reject the null hypothesis in favor of alternative hypothesis or not to reject\n",
    "# the null hypothesis."
   ]
  },
  {
   "cell_type": "markdown",
   "id": "34406da3",
   "metadata": {},
   "source": [
    "# Define p-value and explain its significance in hypothesis testing."
   ]
  },
  {
   "cell_type": "code",
   "execution_count": 7,
   "id": "a850e124",
   "metadata": {},
   "outputs": [],
   "source": [
    "# A p-value is a statistical measurement used to validate a hypothesis against observed data. A p-value measures the probability\n",
    "# of obtaining the observed results, assuming that the null hypothesis is true. The lower the p-value, the greater the \n",
    "# statistical significance of the observed difference.\n",
    "\n",
    "# Key Takeaways:\n",
    "# A p-value is a statistical measurement used to validate a hypothesis against observed data.\n",
    "# A p-value measures the probability of obtaining the observed results, assuming that the null hypothesis is true.\n",
    "# The lower the p-value, the greater the statistical significance of the observed difference.\n",
    "# A p-value of 0.05 or lower is generally considered statistically significant.\n",
    "\n",
    "# P-value can serve as an alternative to—or in addition to—preselected confidence levels for hypothesis testing.\n",
    "\n",
    "# Conclusion:\n",
    "\n",
    "# P-Value is used to determine the significance of observational data. Whenever researchers notice an apparent relation between\n",
    "# two variables, a P-Value calculation helps ascertain if the observed relationship happened as a result of chance. Learn more\n",
    "# about statistical analysis and data analytics and fast track your career with our Professional Certificate Program In Data \n",
    "# Analytics.  \n"
   ]
  },
  {
   "cell_type": "markdown",
   "id": "24e29598",
   "metadata": {},
   "source": [
    "# Generate a Student's t-distribution plot using Python's matplotlib library, with the degrees of freedom parameter set to 10\n"
   ]
  },
  {
   "cell_type": "code",
   "execution_count": 8,
   "id": "34eac124",
   "metadata": {},
   "outputs": [
    {
     "data": {
      "image/png": "[encoded data removed]",
      "text/plain": [
       "<Figure size 800x600 with 1 Axes>"
      ]
     },
     "metadata": {},
     "output_type": "display_data"
    }
   ],
   "source": [
    "import numpy as np\n",
    "import matplotlib.pyplot as plt\n",
    "from scipy import stats\n",
    "\n",
    "# Define degrees of freedom\n",
    "dof = 10\n",
    "\n",
    "# Generate x values (t-statistics)\n",
    "x = np.linspace(-4, 4, 500)\n",
    "\n",
    "# Calculate the corresponding y values (probability density function)\n",
    "y = stats.t.pdf(x, df)\n",
    "\n",
    "# Create the plot\n",
    "plt.figure(figsize=(8, 6))\n",
    "plt.plot(x, y, label=f\"t-distribution (dof = {dof})\")\n",
    "plt.title(\"Student's t-distribution\")\n",
    "plt.xlabel(\"t-statistic\")\n",
    "plt.ylabel(\"Probability Density\")\n",
    "plt.legend()\n",
    "plt.grid(True)\n",
    "plt.show()\n"
   ]
  },
  {
   "cell_type": "markdown",
   "id": "085b2867",
   "metadata": {},
   "source": [
    "# Write a Python program to calculate the two-sample t-test for independent samples, given two random samples of equal size and a null hypothesis that the population means are equal.\n"
   ]
  },
  {
   "cell_type": "code",
   "execution_count": 9,
   "id": "8e0b5f98",
   "metadata": {},
   "outputs": [
    {
     "data": {
      "text/plain": [
       "Ttest_indResult(statistic=-0.6337397070250238, pvalue=0.5300471010405257)"
      ]
     },
     "execution_count": 9,
     "metadata": {},
     "output_type": "execute_result"
    }
   ],
   "source": [
    "import scipy.stats as stats\n",
    "import numpy as np\n",
    " \n",
    "# Creating data groups\n",
    "data_group1 = np.array([14, 15, 15, 16, 13, 8, 14,\n",
    "                        17, 16, 14, 19, 20, 21, 15,\n",
    "                        15, 16, 16, 13, 14, 12])\n",
    " \n",
    "data_group2 = np.array([15, 17, 14, 17, 14, 8, 12,\n",
    "                        19, 19, 14, 17, 22, 24, 16,\n",
    "                        13, 16, 13, 18, 15, 13])\n",
    " \n",
    "# Perform the two sample t-test with equal variances\n",
    "stats.ttest_ind(a=data_group1, b=data_group2, equal_var=True)"
   ]
  },
  {
   "cell_type": "code",
   "execution_count": 10,
   "id": "9de13688",
   "metadata": {},
   "outputs": [],
   "source": [
    "# from above two sample t-test has the following hypothesis:\n",
    "\n",
    "# H0 => µ1 = µ2 (population mean of dataset1 is equal to dataset2)\n",
    "\n",
    "# HA => µ1 ≠µ2 (population mean of dataset1 is different from dataset2)\n",
    "\n",
    "# Here, since the p-value (0.53004) is greater than alpha = 0.05 so we cannot reject the null hypothesis of the test. We do not\n",
    "# have sufficient evidence to say that the mean height of students between the two data groups is different."
   ]
  },
  {
   "cell_type": "code",
   "execution_count": null,
   "id": "2a8e0293",
   "metadata": {},
   "outputs": [],
   "source": []
  },
  {
   "cell_type": "markdown",
   "id": "11183527",
   "metadata": {},
   "source": [
    "# What is Student’s t distribution? When to use the t-Distribution."
   ]
  },
  {
   "cell_type": "code",
   "execution_count": 11,
   "id": "c703e565",
   "metadata": {},
   "outputs": [],
   "source": [
    "# The t-distribution, also known as the Student's t-distribution, is a type of probability distribution that is similar to the\n",
    "# normal distribution with its bell shape but has heavier tails. It is used for estimating population parameters for small \n",
    "# sample sizes or unknown variances.\n",
    "\n",
    "# The notation for the Student's t-distribution (using T as the random variable) is: T ~ t df where df = n – 1. For example, \n",
    "# if we have a sample of size n = 20 items, then we calculate the degrees of freedom as df = n – 1 = 20 – 1 = 19 and we write\n",
    "# the distribution as T ~ t 19\n",
    "\n",
    "# You must use the t-distribution table when working problems when the population standard deviation (σ) is not known and the \n",
    "# sample size is small (n<30). General Correct Rule: If σ is not known, then using t-distribution is correct. If σ is known, \n",
    "# then using the normal distribution is correct."
   ]
  },
  {
   "cell_type": "markdown",
   "id": "2115c460",
   "metadata": {},
   "source": [
    "# What is t-statistic? State the formula for t-statistic."
   ]
  },
  {
   "cell_type": "code",
   "execution_count": 12,
   "id": "ac35ea38",
   "metadata": {},
   "outputs": [],
   "source": [
    "# In statistics, the t-statistic is the ratio of the departure of the estimated value of a parameter from its hypothesized value\n",
    "# to its standard error. It is used in hypothesis testing via Student's t-test. The t-statistic is used in a t-test to determine\n",
    "# whether to support or reject the null hypothesis.\n",
    "\n",
    "# It is very similar to the z-score but with the difference that t-statistic is used when the sample size is small or the\n",
    "# population standard deviation is unknown. For example, the t-statistic is used in estimating the population mean from a \n",
    "# sampling distribution of sample means if the population standard deviation is unknown. It is also used along with p-value\n",
    "# when running hypothesis tests where the p-value tells us what the odds are of the results to have happened.\n",
    "\n",
    "# In statistics, the t-statistic is the ratio of the departure of the estimated value of a parameter from its hypothesized value\n",
    "# to its standard error. It is used in hypothesis testing via Student's t-test. The t-statistic is used in a t-test to determine\n",
    "# whether to support or reject the null hypothesis.\n",
    "\n",
    "# The basic format for reporting the result of a t-test is the same in each case (the color red means you substitute in the \n",
    "# appropriate value from your study): t(degress of freedom) = the t statistic, p = p value. It's the context you provide when\n",
    "# reporting the result that tells the reader which type of t-test was used."
   ]
  },
  {
   "cell_type": "markdown",
   "id": "262f91ca",
   "metadata": {},
   "source": [
    "# A coffee shop owner wants to estimate the average daily revenue for their shop. They take a random sample of 50 days and find the sample mean revenue to be 500 with a standard deviation of 50.Estimate the population mean revenue with a 95% confidence interval.\n",
    " \n"
   ]
  },
  {
   "cell_type": "code",
   "execution_count": 13,
   "id": "9abe7e5e",
   "metadata": {},
   "outputs": [],
   "source": [
    "# n = 50\n",
    "# sample mean = 500\n",
    "# std = 50\n",
    "# z test = 1.96 (Corrosponding to 95% C.I)\n",
    "# z test = -1.96 (Corrosponding to 95% C.I)\n",
    "\n",
    "# z = (sample mean - pop_mean)/std/(n)**0.5\n",
    "# from above population mean = 486.14(at z= 1.96)\n",
    "# and population mean = 513.8592(at z= -1.96)\n",
    "# So range is 486.14 < popolation mean < 513.8592 "
   ]
  },
  {
   "cell_type": "markdown",
   "id": "e76ecc35",
   "metadata": {},
   "source": [
    "# A researcher hypothesizes that a new drug will decrease blood pressure by 10 mmHg. They conduct a clinical trial with 100 patients and find that the sample mean decrease in blood pressure is 8 mmHg with a standard deviation of 3 mmHg. Test the hypothesis with a significance level of 0.05.\n",
    "\n"
   ]
  },
  {
   "cell_type": "code",
   "execution_count": 14,
   "id": "db4b74cf",
   "metadata": {},
   "outputs": [],
   "source": [
    "# population mean = 10 mm of Hg\n",
    "# n= 100\n",
    "# s = 8 mm of Hg\n",
    "# alpha = 0.05\n",
    "# std = 3\n",
    "# 1> Null Hypothesis: population mean = 10 mm of Hg\n",
    "#    Alternate Hypothesis: population mean != 10 mm of Hg (2 Tail Test)\n",
    "    \n",
    "# 2 > alpha = 0.05\n",
    "# 3 > d.o.f = n-1 = 99\n",
    "# 4 > for 2 Tail Test and dof = 99 t test range is approximately -1.984 < T test < 1.984 , here i have taken dof = 100 foe ease\n",
    "#     of calculation otherwise we can find the value of t test at n =99 with interpolation which is almost equal to at n = 100\n",
    "#     upto 3 decimal places.\n",
    "# 5 > \n",
    "#      t test = (sample mean - pop_mean) / std/(n)**0.5\n",
    "#             = -6.666\n",
    "# 6>       \n",
    "#      It is not in the range of -1.984 < T test < 1.984, So, Reject Null hypothesis\n",
    "#      but t test value is -ve so we can say It decreases blood pressure"
   ]
  },
  {
   "cell_type": "markdown",
   "id": "6d99c0e7",
   "metadata": {},
   "source": [
    "# An electronics company produces a certain type of product with a mean weight of 5 pounds and a standard deviation of 0.5 pounds. A random sample of 25 products is taken, and the sample mean weight is found to be 4.8 pounds. Test the hypothesis that the true mean weight of the products is less than 5 pounds with a significance level of 0.01.\n",
    "\n",
    "\n"
   ]
  },
  {
   "cell_type": "code",
   "execution_count": 15,
   "id": "f35f8f97",
   "metadata": {},
   "outputs": [],
   "source": [
    "# pop_mean = 5 \n",
    "# std = 0.5\n",
    "# n = 25\n",
    "# sample_mean =4.8\n",
    "# alpha = 0.01\n",
    "# 1> Null Hypothesis:H0= 5\n",
    "# 2> Alternate hypothesis: H1 != 5\n",
    "# 3> \n",
    "# At the 0.01 level of significance, zα = − 2.58 and zα = 2.58. The\n",
    "#    z = (sample mean - pop_mean)/std/(n)**0.5\n",
    "#      = (4.8-5)/0.5/5 = -2 i.e in range of -2.58 < z < 2.58\n",
    "# So, we will accept Null Htpothesis thats why  the hypothesis that true mean weight of the products is less then 5 pounds is\n",
    "# absurd.     \n"
   ]
  },
  {
   "cell_type": "markdown",
   "id": "3c401c32",
   "metadata": {},
   "source": [
    "# Two groups of students are given different study materials to prepare for a test. The first group (n1 = 30) has a mean score of 80 with a standard deviation of 10, and the second group (n2 = 40) has a mean score of 75 with a standard deviation of 8. Test the hypothesis that the population means for the two groups are equal with a significance level of 0.01.\n",
    "\n",
    "\n"
   ]
  },
  {
   "cell_type": "code",
   "execution_count": 16,
   "id": "bb1033f0",
   "metadata": {},
   "outputs": [],
   "source": [
    "#For group-1\n",
    "#pop_mean = x\n",
    "# std = 10\n",
    "# n1 = 30\n",
    "# sample_mean =80\n",
    "# alpha = 0.01\n",
    "# 1> Null Hypothesis:H0= x\n",
    "# 2> Alternate hypothesis: H1 != x\n",
    "# 3> \n",
    "# At the 0.01 level of significance, zα = − 2.58 and zα = 2.58. The\n",
    "#    z1 = (sample mean - pop_mean)/std/(n)**0.5\n",
    "#      = (80- x)/1.825\n",
    "# at z1= -2.58, x = 84.7085\n",
    "# at z1= 2.58, x = 75.2915\n",
    "# so, 75.2915 < x < 84.7085\n",
    "\n",
    "\n",
    "#For group-2\n",
    "#pop_mean = x\n",
    "# std = 8\n",
    "# n2 = 40\n",
    "# sample_mean =75\n",
    "# alpha = 0.01\n",
    "# 1> Null Hypothesis:H0= x\n",
    "# 2> Alternate hypothesis: H1 != x\n",
    "# 3> \n",
    "# At the 0.01 level of significance, zα = − 2.58 and zα = 2.58. The\n",
    "#    z2 = (sample mean - pop_mean)/std/(n)**0.5\n",
    "#      =  (75- x)/1.264\n",
    "# at z1= -2.58, x = 78.2611\n",
    "# at z1= 2.58, x = 71.7389\n",
    "# so, 71.7389 < x < 78.2611\n",
    "\n",
    "# from both the group's  x value comman is 75.2915 < x < 78.2611\n",
    "# So, hypothesis that the population means for the two groups are equal with a significance level of 0.01 is true"
   ]
  },
  {
   "cell_type": "markdown",
   "id": "c88f2d49",
   "metadata": {},
   "source": [
    "# A marketing company wants to estimate the average number of ads watched by viewers during a TV program. They take a random sample of 50 viewers and find that the sample mean is 4 with a standard deviation of 1.5. Estimate the population mean with a 99% confidence interval.\n",
    "\n"
   ]
  },
  {
   "cell_type": "code",
   "execution_count": 17,
   "id": "b90dff7f",
   "metadata": {},
   "outputs": [],
   "source": [
    "# n = 50\n",
    "# sample mean = 4\n",
    "# std = 1.5\n",
    "# z test = 2.576 (Corrosponding to 99% C.I)\n",
    "# z test = -2.576 (Corrosponding to 99% C.I)\n",
    "\n",
    "# z = (sample mean - pop_mean)/std/(pop_mean)**0.5\n",
    "# from above population mean = 3.453(at z= 2.576)\n",
    "# and population mean = 4.5464(at z= -2.576)\n",
    "# So range is 3.453 < popolation mean < 4.5464 "
   ]
  },
  {
   "cell_type": "code",
   "execution_count": null,
   "id": "9688fdb7",
   "metadata": {},
   "outputs": [],
   "source": []
  }
 ],
 "metadata": {
  "kernelspec": {
   "display_name": "Python 3 (ipykernel)",
   "language": "python",
   "name": "python3"
  },
  "language_info": {
   "codemirror_mode": {
    "name": "ipython",
    "version": 3
   },
   "file_extension": ".py",
   "mimetype": "text/x-python",
   "name": "python",
   "nbconvert_exporter": "python",
   "pygments_lexer": "ipython3",
   "version": "3.11.4"
  }
 },
 "nbformat": 4,
 "nbformat_minor": 5
}
